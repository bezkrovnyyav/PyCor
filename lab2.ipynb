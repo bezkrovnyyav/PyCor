{
  "metadata": {
    "interpreter": {
      "hash": "b469c69c7779680c4ee09c4775720b95d3e73aebb95b0b92945285ea0714cd4d"
    },
    "kernelspec": {
      "name": "python",
      "display_name": "Python (Pyodide)",
      "language": "python"
    },
    "language_info": {
      "codemirror_mode": {
        "name": "python",
        "version": 3
      },
      "file_extension": ".py",
      "mimetype": "text/x-python",
      "name": "python",
      "nbconvert_exporter": "python",
      "pygments_lexer": "ipython3",
      "version": "3.8"
    }
  },
  "nbformat_minor": 4,
  "nbformat": 4,
  "cells": [
    {
      "cell_type": "markdown",
      "source": "# Iterators task\nGiven a number. Write iterator that prints n fibonacci numbers using `__iter__` and `__next__` methods.\n    \n    Input: 11\n    Output: 0 1 1 2 3 5 8 13 21 34 55",
      "metadata": {}
    },
    {
      "cell_type": "code",
      "source": "# write your code here\ndef fib(list_size):\n    # Initialize first two Fibonacci Numbers\n    num_1, num_2 = 0, 1\n\n    # One by one yield next Fibonacci Number\n    for _ in range(list_size):\n        yield num_1\n        num_1, num_2 = num_2, num_1 + num_2\n\n# Create a generator object\niter_obj = iter(fib(11))\n\n# Create a list of Fibonacci Numbers\nresult = []\n\nwhile True:\n    try:\n        # get the next number\n        element = next(iter_obj)\n        # add numbet to the list of Fibonacci Numbers\n        result.append(element)\n    except StopIteration:\n        # if StopIteration is raised, break from loop\n        break\n\nprint(result)",
      "metadata": {
        "trusted": true
      },
      "execution_count": 1,
      "outputs": [
        {
          "name": "stdout",
          "text": "[0, 1, 1, 2, 3, 5, 8, 13, 21, 34, 55]\n",
          "output_type": "stream"
        }
      ]
    },
    {
      "cell_type": "markdown",
      "source": "Write iterator that prints n fibonacci numbers using `__getitem__` method.\n    \n    Input: 11\n    Output: 0 1 1 2 3 5 8 13 21 34 55",
      "metadata": {}
    },
    {
      "cell_type": "code",
      "source": "# write your code here",
      "metadata": {
        "trusted": true
      },
      "execution_count": 2,
      "outputs": []
    },
    {
      "cell_type": "markdown",
      "source": "# RGB To Hex Conversion\nGiven 3 numbers. Write the function so that passing in RGB decimal values will result in a hexadecimal representation being returned. Valid decimal values for RGB are 0 - 255. Any values that fall out of that range must be rounded to the closest valid value.\n\nNote: Your answer should always be 6 characters long, the shorthand with 3 will not work here.\n\n    \n    Input: 255, 255, 255\n    Output: FFFFFF\n\n    Input: 255, 255, 300\n    Output: FFFFFF\n\n    Input: 148, 0, 211\n    Output: 9400D3\n",
      "metadata": {}
    },
    {
      "cell_type": "code",
      "source": "# write your code here\ndef rgb(r, g, b):\n  output = \"\";\n  for input in [r, g, b]:\n    if input > 255:\n        input = 255\n    elif input < 0:\n        input = 0\n    result = hex(input).strip('0x').upper()\n    if result == \"\":\n        result = \"00\" + result\n    output += result\n  \n  return output;\n\nprint(rgb(255, 255, 300))",
      "metadata": {
        "trusted": true
      },
      "execution_count": 3,
      "outputs": [
        {
          "name": "stdout",
          "text": "FFFFFF\n",
          "output_type": "stream"
        }
      ]
    },
    {
      "cell_type": "markdown",
      "source": "# To square(root) or not to square(root)\nGiven an array of number. Write a method, that will get a number array as parameter and will process every number from this array.\n\n\nReturn a new array with processing every number of the input-array like this:\n\n\nIf the number has an rational square root, take this, otherwise square the number.\n\n    \n    Input:  [4,3,9,7,2,1]\n    Output: [2,9,3,49,4,1]\n\n    Input: [1.21,0,9]\n    Output: [1.1,0,3]",
      "metadata": {}
    },
    {
      "cell_type": "code",
      "source": "# write your code here\ndef square_root(num):\n    if num <= 0:\n        return num\n    elif num ** 0.5 == round(num ** 0.5, 2):\n        return num ** 0.5\n    else:\n        return num ** 2\n    \ntest_lst = [1, 3, 4, 0, 1.21, 0.09]\nresult = map(square_root, test_lst)\nprint(list(result))",
      "metadata": {
        "trusted": true
      },
      "execution_count": 4,
      "outputs": [
        {
          "name": "stdout",
          "text": "[1.0, 9, 2.0, 0, 1.1, 0.3]\n",
          "output_type": "stream"
        }
      ]
    }
  ]
}