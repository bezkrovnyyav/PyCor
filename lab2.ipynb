{
  "metadata": {
    "interpreter": {
      "hash": "b469c69c7779680c4ee09c4775720b95d3e73aebb95b0b92945285ea0714cd4d"
    },
    "kernelspec": {
      "name": "python",
      "display_name": "Python (Pyodide)",
      "language": "python"
    },
    "language_info": {
      "codemirror_mode": {
        "name": "python",
        "version": 3
      },
      "file_extension": ".py",
      "mimetype": "text/x-python",
      "name": "python",
      "nbconvert_exporter": "python",
      "pygments_lexer": "ipython3",
      "version": "3.8"
    }
  },
  "nbformat_minor": 4,
  "nbformat": 4,
  "cells": [
    {
      "cell_type": "markdown",
      "source": "# Iterators task\nGiven a number. Write iterator that prints n fibonacci numbers using `__iter__` and `__next__` methods.\n    \n    Input: 11\n    Output: 0 1 1 2 3 5 8 13 21 34 55",
      "metadata": {}
    },
    {
      "cell_type": "code",
      "source": "# write your code here",
      "metadata": {
        "trusted": true
      },
      "execution_count": null,
      "outputs": []
    },
    {
      "cell_type": "markdown",
      "source": "Write iterator that prints n fibonacci numbers using `__getitem__` method.\n    \n    Input: 11\n    Output: 0 1 1 2 3 5 8 13 21 34 55",
      "metadata": {}
    },
    {
      "cell_type": "code",
      "source": "# write your code here",
      "metadata": {
        "trusted": true
      },
      "execution_count": null,
      "outputs": []
    },
    {
      "cell_type": "markdown",
      "source": "# RGB To Hex Conversion\nGiven 3 numbers. Write the function so that passing in RGB decimal values will result in a hexadecimal representation being returned. Valid decimal values for RGB are 0 - 255. Any values that fall out of that range must be rounded to the closest valid value.\n\nNote: Your answer should always be 6 characters long, the shorthand with 3 will not work here.\n\n    \n    Input: 255, 255, 255\n    Output: FFFFFF\n\n    Input: 255, 255, 300\n    Output: FFFFFF\n\n    Input: 148, 0, 211\n    Output: 9400D3\n",
      "metadata": {}
    },
    {
      "cell_type": "code",
      "source": "# write your code here\ndef rgb(r, g, b):\n  output = \"\";\n  for input in [r, g, b]:\n    if input > 255:\n        input = 255\n    elif input < 0:\n        input = 0\n    result = hex(input).strip('0x').upper()\n    if result == \"\":\n        result = \"00\" + result\n    output += result\n  \n  return output;\n\nprint(rgb(255, 255, 300))",
      "metadata": {
        "trusted": true
      },
      "execution_count": null,
      "outputs": []
    },
    {
      "cell_type": "markdown",
      "source": "# To square(root) or not to square(root)\nGiven an array of number. Write a method, that will get a number array as parameter and will process every number from this array.\n\n\nReturn a new array with processing every number of the input-array like this:\n\n\nIf the number has an rational square root, take this, otherwise square the number.\n\n    \n    Input:  [4,3,9,7,2,1]\n    Output: [2,9,3,49,4,1]\n\n    Input: [1.21,0,9]\n    Output: [1.1,0,3]",
      "metadata": {}
    },
    {
      "cell_type": "code",
      "source": "# write your code here",
      "metadata": {
        "trusted": true
      },
      "execution_count": null,
      "outputs": []
    }
  ]
}