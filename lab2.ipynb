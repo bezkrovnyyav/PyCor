{
  "metadata": {
    "interpreter": {
      "hash": "b469c69c7779680c4ee09c4775720b95d3e73aebb95b0b92945285ea0714cd4d"
    },
    "kernelspec": {
      "name": "python",
      "display_name": "Python (Pyodide)",
      "language": "python"
    },
    "language_info": {
      "codemirror_mode": {
        "name": "python",
        "version": 3
      },
      "file_extension": ".py",
      "mimetype": "text/x-python",
      "name": "python",
      "nbconvert_exporter": "python",
      "pygments_lexer": "ipython3",
      "version": "3.8"
    }
  },
  "nbformat_minor": 4,
  "nbformat": 4,
  "cells": [
    {
      "cell_type": "markdown",
      "source": "# Iterators task\nGiven a number. Write iterator that prints n fibonacci numbers using `__iter__` and `__next__` methods.\n    \n    Input: 11\n    Output: 0 1 1 2 3 5 8 13 21 34 55",
      "metadata": {}
    },
    {
      "cell_type": "code",
      "source": "# TODO: use magic methods (__iter__ and __next__), not the builtin functions.\n\nclass Fibonacci:\n    def __init__(self, max):\n        self.__max = max\n\n    def __iter__(self):\n        self.__count = 0\n        self.__start = 0\n        self.__end = 1\n        return self\n\n    def __next__(self):\n        if self.__count == 0:\n            self.__count += 1\n            return self.__start\n        elif self.__count == 1:\n            self.__count += 1\n            return self.__end\n        elif self.__count < self.__max:\n            result = self.__start + self.__end\n            self.__start = self.__end\n            self.__end = result\n            self.__count += 1\n            return result\n        else:\n            raise StopIteration\n\n\nif __name__ == \"__main__\":\n    fibonacci_series = Fibonacci(11)\n    fibonacci_iterator = iter(fibonacci_series)\n    fibonacci_array = [i for i in fibonacci_iterator]\n    print(fibonacci_array)\n  ",
      "metadata": {
        "trusted": true
      },
      "execution_count": 1,
      "outputs": [
        {
          "name": "stdout",
          "text": "[0, 1, 1, 2, 3, 5, 8, 13, 21, 34, 55]\n",
          "output_type": "stream"
        }
      ]
    },
    {
      "cell_type": "markdown",
      "source": "Write iterator that prints n fibonacci numbers using `__getitem__` method.\n    \n    Input: 11\n    Output: 0 1 1 2 3 5 8 13 21 34 55",
      "metadata": {}
    },
    {
      "cell_type": "code",
      "source": "'''\nfibo_numbers = [0, 1]\nfibo_list_size = 11\nfor i in range(2, fibo_list_size):\n    fibo_numbers.append(fibo_numbers.__getitem__(i - 1) + fibo_numbers.__getitem__(i - 2))\nprint(fibo_numbers)\n'''\n# TODO: use magic method (__getitem__) in own class, not to call it directly on the iterable\n\nclass Fibonacci:\n    def __init__(self, limit):\n        self.limit = limit\n        self.last = 1\n        self.current = 1\n        \n    def __getitem__(self, index):\n        if index in (0,1):\n            # print(f\"index in (0,1)\")\n            return 1\n        \n        if index < self.limit:\n\n            fib = self.last + self.current\n            self.last = self.current\n            self.current = fib\n            return fib\n        else:\n            raise IndexError(f\"Index error {index} outside limit {self.limit}\")\n\n\nresult_list = []\nfib = Fibonacci(11)\n\nfor fibo_num in fib:\n    result_list.append(fibo_num)\n    \nprint(result_list)\n",
      "metadata": {
        "trusted": true
      },
      "execution_count": 2,
      "outputs": [
        {
          "name": "stdout",
          "text": "[0, 1, 1, 2, 3, 5, 8, 13, 21, 34, 55]\n",
          "output_type": "stream"
        }
      ]
    },
    {
      "cell_type": "markdown",
      "source": "# RGB To Hex Conversion\nGiven 3 numbers. Write the function so that passing in RGB decimal values will result in a hexadecimal representation being returned. Valid decimal values for RGB are 0 - 255. Any values that fall out of that range must be rounded to the closest valid value.\n\nNote: Your answer should always be 6 characters long, the shorthand with 3 will not work here.\n\n    \n    Input: 255, 255, 255\n    Output: FFFFFF\n\n    Input: 255, 255, 300\n    Output: FFFFFF\n\n    Input: 148, 0, 211\n    Output: 9400D3\n",
      "metadata": {}
    },
    {
      "cell_type": "code",
      "source": "# write your code here\ndef rgb(r, g, b):\n  output = \"\";\n  for input in [r, g, b]:\n    if input > 255:\n        input = 255\n    elif input < 0:\n        input = 0\n    result = hex(input).strip('0x').upper()\n    if result == \"\":\n        result = \"00\" + result\n    output += result\n  \n  return output;\n\nprint(rgb(255, 255, 300))",
      "metadata": {
        "trusted": true
      },
      "execution_count": 3,
      "outputs": [
        {
          "name": "stdout",
          "text": "FFFFFF\n",
          "output_type": "stream"
        }
      ]
    },
    {
      "cell_type": "markdown",
      "source": "# To square(root) or not to square(root)\nGiven an array of number. Write a method, that will get a number array as parameter and will process every number from this array.\n\n\nReturn a new array with processing every number of the input-array like this:\n\n\nIf the number has an rational square root, take this, otherwise square the number.\n\n    \n    Input:  [4,3,9,7,2,1]\n    Output: [2,9,3,49,4,1]\n\n    Input: [1.21,0,9]\n    Output: [1.1,0,3]",
      "metadata": {}
    },
    {
      "cell_type": "code",
      "source": "# write your code here\ndef square_root(num):\n    if num <= 0:\n        return num\n    elif num ** 0.5 == round(num ** 0.5, 2):\n        return num ** 0.5\n    else:\n        return num ** 2\n    \ntest_lst = [1, 3, 4, 0, 1.21, 0.09]\nresult = map(square_root, test_lst)\nprint(list(result))",
      "metadata": {
        "trusted": true
      },
      "execution_count": 4,
      "outputs": [
        {
          "name": "stdout",
          "text": "[1.0, 9, 2.0, 0, 1.1, 0.3]\n",
          "output_type": "stream"
        }
      ]
    }
  ]
}