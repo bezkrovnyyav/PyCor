{
  "metadata": {
    "kernelspec": {
      "name": "python",
      "display_name": "Python (Pyodide)",
      "language": "python"
    },
    "language_info": {
      "codemirror_mode": {
        "name": "python",
        "version": 3
      },
      "file_extension": ".py",
      "mimetype": "text/x-python",
      "name": "python",
      "nbconvert_exporter": "python",
      "pygments_lexer": "ipython3",
      "version": "3.8"
    },
    "vscode": {
      "interpreter": {
        "hash": "f6bbc3f78a19c700aba95937ccd2357fb00e815cfd39466200ea33816d85557e"
      }
    }
  },
  "nbformat_minor": 4,
  "nbformat": 4,
  "cells": [
    {
      "cell_type": "markdown",
      "source": "# Perfect numbers generator\nGiven the number, the task to return n perfect numbers.\n\n\nIn number theory, a perfect number is a positive integer that is equal to the sum of its positive divisors, excluding the number itself. For instance, 6 has divisors 1, 2 and 3 (excluding itself), and 1 + 2 + 3 = 6, so 6 is a perfect number. More about perfect numbers read on https://en.wikipedia.org/wiki/Perfect_number.\n\n\nNote: Use generator for that task\n\n\n    Input: 3\n    Output: 6, 28, 496",
      "metadata": {}
    },
    {
      "cell_type": "code",
      "source": "# write your code here\nperfect_numbers = []\nlen_lst = 3\ngenerator = (i for i in range(1, 1000))\n\nfor i in generator:\n    num = 0\n    for j in range(1, (i//2)+1):\n        if i % j == 0:\n            num += j\n    if num == i:\n        perfect_numbers.append(i)\n        \nif len(perfect_numbers) >= len_lst:\n    print(perfect_numbers[:len_lst])\nelse:\n    print(\"Please, choose shorter list length\")\n",
      "metadata": {
        "trusted": true
      },
      "execution_count": 3,
      "outputs": [
        {
          "name": "stdout",
          "text": "[6, 28, 496]\n",
          "output_type": "stream"
        }
      ]
    },
    {
      "cell_type": "markdown",
      "source": "# IP Validation\nWrite an algorithm that will identify valid IPv4 addresses in dot-decimal format. IPs should be considered valid if they consist of four octets, with values between 0 and 255, inclusive.\n\nNote: Create the decorator that validates if the passed to inner function ip value is correct. In case of incorrect ip format, user should see the error message.\n\n\n    Examples of correct ip addresses: 1.2.3.4, 123.45.67.89\n    Examples of incorrect ip addresses: 1.2.3, 1.2.3.4.5, 123.456.78.90, 123.045.067.089",
      "metadata": {}
    },
    {
      "cell_type": "code",
      "source": "from functools import wraps\n\n\ndef ip_dec(function):\n\n\t@wraps(function)\n\tdef wrapped(*args):\n\t\tip_num = args[0]\n\t\t# print(ip_num)\n\t\ttry:\n\t\t\tip_list = [i for i in ip_num.split('.')]\n\n\t\t\tfor item in ip_list:\n\t\t\t\tif int(item) < 0 or int(item) > 255:\n\t\t\t\t\treturn f'{ip_num} is incorrect ip'\n\n\t\t\tif len(ip_list) == 4:\n\t\t\t\tfor i in range(0,len(ip_list)):\n\t\t\t\t\tif len(str(ip_list[i])) > 3 or (len(str(int(ip_list[i]))) != len(str(ip_list[i]))):\n\t\t\t\t\t\treturn f'{ip_num} is incorrect ip'\n\t\t\t\t\telif len(str(ip_list[i])) > 1 and str(ip_list[i])[0]=='0':\n\t\t\t\t\t\treturn f'{ip_num} is incorrect ip'\n\t\t\t\treturn f'{ip_num} is correct ip'\n\n\t\t\treturn f'{ip_num} is incorrect ip'\n\n\t\texcept ValueError as e:\n\t\t\treturn f'{ip_num} is incorrect ip'\n\n\treturn wrapped\n\n\n@ip_dec\ndef is_valid_IP(ip_num):\n\tpass\n\n\nprint(is_valid_IP(\"1.2.3.4\"))",
      "metadata": {
        "trusted": true
      },
      "execution_count": 3,
      "outputs": [
        {
          "name": "stdout",
          "text": "1.2.3.4 is correct ip\n",
          "output_type": "stream"
        }
      ]
    },
    {
      "cell_type": "markdown",
      "source": "# ISBN-10 Validation\n\nISBN-10 identifiers are ten digits long. The first nine characters are digits 0-9. The last digit can be 0-9 or X, to indicate a value of 10.\n\nAn ISBN-10 number is valid if the sum of the digits multiplied by their position modulo 11 equals zero. More about ISBN on https://en.wikipedia.org/wiki/ISBN\n\n\nFor example:\n\n\n    ISBN     : 1 1 1 2 2 2 3 3 3  9\n    position : 1 2 3 4 5 6 7 8 9 10\n\n\nThis is a valid ISBN, because:\n\n\n    (1*1 + 1*2 + 1*3 + 2*4 + 2*5 + 2*6 + 3*7 + 3*8 + 3*9 + 9*10) % 11 = 0\n\n\nNote: Create the decorator that validates if the passed to inner function isbn value is correct. In case of incorrect isbn format, user should see the error message.\n\n\n    Examples of correct isbn-10 addresses: 1112223339, 1234554321, 048665088X\n    Examples of incorrect isbn-10 addresses: 111222333, 1112223339X, 1234512345, X123456788",
      "metadata": {
        "tags": []
      }
    },
    {
      "cell_type": "code",
      "source": "from re import search\nfrom functools import wraps\n\n\nisbn = \"048665088X\"\n\ndef isbn_decoder(function):\n\n    @wraps(function)\n    def wrapped(isbn):\n        checker = search(\"[0-9]{9}[X0-9]{1}\", isbn)\n        sum_numbers = 0\n\n        if checker and len(isbn) == 10:\n            res = isbn.split()\n        for i in range(len(res)):\n            if res[i] == \"X\":\n                res[i] = 10\n            sum_numbers += int(isbn[i]) * (i + 1)\n        if sum_numbers % 11 == 0:\n            print(f\"{isbn} is correct ISBN\")\n      \n        else:\n            print(f\"{isbn} is incorrect ISBN\")\n   \n    return wrapped\n\n\n@isbn_decoder\ndef isbn_checker(isbn):\n    return isbn\n\n\nisbn_checker(isbn)\n",
      "metadata": {
        "trusted": true
      },
      "execution_count": 4,
      "outputs": [
        {
          "name": "stdout",
          "text": "048665088X is correct ISBN\n",
          "output_type": "stream"
        }
      ]
    }
  ]
}