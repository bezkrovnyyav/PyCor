{
  "metadata": {
    "kernelspec": {
      "name": "python",
      "display_name": "Python (Pyodide)",
      "language": "python"
    },
    "language_info": {
      "codemirror_mode": {
        "name": "python",
        "version": 3
      },
      "file_extension": ".py",
      "mimetype": "text/x-python",
      "name": "python",
      "nbconvert_exporter": "python",
      "pygments_lexer": "ipython3",
      "version": "3.8"
    },
    "vscode": {
      "interpreter": {
        "hash": "f6bbc3f78a19c700aba95937ccd2357fb00e815cfd39466200ea33816d85557e"
      }
    }
  },
  "nbformat_minor": 4,
  "nbformat": 4,
  "cells": [
    {
      "cell_type": "markdown",
      "source": "# Tribonacci Sequence\nWell met with Fibonacci bigger brother, AKA Tribonacci.\n\n\nAs the name may already reveal, it works basically like a Fibonacci, but summing the last 3 (instead of 2) numbers of the sequence to generate the next. And, worse part of it, regrettably I won't get to hear non-native Italian speakers trying to pronounce it :(\n\n\nSo, if we are to start our Tribonacci sequence with [1, 1, 1] as a starting input (AKA signature), we have this sequence: [1, 1 ,1, 3, 5, 9, 17, 31, ...].\n\n\nBut what if we started with [0, 0, 1] as a signature? As starting with [0, 1] instead of [1, 1] basically shifts the common Fibonacci sequence by once place, you may be tempted to think that we would get the same sequence shifted by 2 places, but that is not the case and we would get: [0, 0, 1, 1, 2, 4, 7, 13, 24, ...].\n\n\nWell, you may have guessed it by now, but to be clear: you need to create a fibonacci function that given a signature array/list, returns the first n elements - signature included of the so seeded sequence.\n\n\nSignature will always contain 3 numbers; n will always be a non-negative number; if n == 0, then return an empty array (except in C return NULL) and be ready for anything else which is not clearly specified ;)\n\n\n    Input: [1, 1, 1], 8\n    Output: [1, 1 ,1, 3, 5, 9, 17, 31]\n\n    Input: [0, 0, 1], 9\n    Output: [0, 0, 1, 1, 2, 4, 7, 13, 24]\n",
      "metadata": {}
    },
    {
      "cell_type": "code",
      "source": "# write your code here\nstart_list = [0, 0, 1]\nnum = 9\n\ndef tribonacci(start_list, num):\n    result = []\n    tribonacci_list = [int(i) for i in start_list]\n    for _ in range(num):\n        new_element = sum(tribonacci_list)\n        tribonacci_list.append(new_element)\n        elem = tribonacci_list.pop(0)\n        result.append(elem)\n    print(result)\n\ntribonacci(start_list, num)\n",
      "metadata": {
        "trusted": true
      },
      "execution_count": 3,
      "outputs": [
        {
          "name": "stdout",
          "text": "[0, 0, 1, 1, 2, 4, 7, 13, 24]\n",
          "output_type": "stream"
        }
      ]
    },
    {
      "cell_type": "markdown",
      "source": "# Phone Directory\nJohn keeps a backup of his old personal phone book as a text file. On each line of the file he can find the phone number (formated as +X-abc-def-ghij where X stands for one or two digits), the corresponding name between < and > and the address.\n\n\nUnfortunately everything is mixed, things are not always in the same order; parts of lines are cluttered with non-alpha-numeric characters (except inside phone number and name).\n\n\nExamples of John's phone book lines:\n\n    \"/+1-541-754-3010 156 Alphand_St. <J Steeve>\\n\"\n\n    \" 133, Green, Rd. <E Kustur> NY-56423 ;+1-541-914-3010!\\n\"\n\n    \"<Anastasia> +48-421-674-8974 Via Quirinal Roma\\n\"\n\n\nCould you help John with a program that, given the lines of his phone book and a phone number num returns a string for this number : \"Phone => num, Name => name, Address => adress\"\n\n\n    Input: \"/+1-541-754-3010 156 Alphand_St. <J Steeve>\\n 133, Green, Rd. <E Kustur> NY-56423 ;+1-541-914-3010!\\n\", \"1-541-754-3010\"\n    Output: Phone => 1-541-754-3010, Name => J Steeve, Address => 156 Alphand St.\n\n\nNote: It can happen that there are many people for a phone number num, then return : \"Error => Too many people: num\"\n\nor it can happen that the number num is not in the phone book, in that case return: \"Error => Not found: num\"",
      "metadata": {}
    },
    {
      "cell_type": "code",
      "source": "from re import sub\n\n\ndef phone(address_book, phone_num):\n    if address_book.count(phone_num) == 0:\n        return \"Error => Not found: \" + phone_num\n\n    if address_book.count(phone_num) > 1:\n        return \"Error => Too many people: \" + phone_num\n\n    for i in address_book.split('\\n'):\n        if phone_num in i:\n            name = sub('.*<(.*)>.*', '\\g<1>', i)\n            sub_step = sub('<' + name + '>' + '|\\+' + phone_num, '', i)\n            address = ' '.join(sub('[^a-zA-Z0-9\\.-]', ' ', sub_step).split())\n            return 'Phone => {}, Name => {}, Address => {}'.format(phone_num, name, address)\n\n\naddress_book = (\n    \"/+1-541-754-3010 156 Alphand_St. <J Steeve>\\n\"\n\n    \" 133, Green, Rd. <E Kustur> NY-56423 ;+1-541-914-3010!\\n\"\n\n    \"<Anastasia> +48-421-674-8974 Via Quirinal Roma\\n\"\n)\n\n\nprint(phone(address_book, \"48-421-674-8974\"))\n",
      "metadata": {},
      "execution_count": null,
      "outputs": []
    }
  ]
}