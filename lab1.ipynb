{
  "metadata": {
    "kernelspec": {
      "name": "python",
      "display_name": "Python (Pyodide)",
      "language": "python"
    },
    "language_info": {
      "codemirror_mode": {
        "name": "python",
        "version": 3
      },
      "file_extension": ".py",
      "mimetype": "text/x-python",
      "name": "python",
      "nbconvert_exporter": "python",
      "pygments_lexer": "ipython3",
      "version": "3.8"
    },
    "vscode": {
      "interpreter": {
        "hash": "b469c69c7779680c4ee09c4775720b95d3e73aebb95b0b92945285ea0714cd4d"
      }
    }
  },
  "nbformat_minor": 4,
  "nbformat": 4,
  "cells": [
    {
      "cell_type": "markdown",
      "source": "# Check if the string is Symmetrical or Palindrome\n\nGiven a string. The task is to check if the string is symmetrical or palindrome. A string is said to be symmetrical if both the halves of the string are the same and a string is said to be a palindrome string if one half of the string is the reverse of the other half or if a string appears same when read forward or backward.\n\n    Input: khokho\n    Output: \n    The entered string is symmetrical\n    The entered string is not palindrome\n\n    Input: amaama\n    Output:\n    The entered string is symmetrical\n    The entered string is palindrome",
      "metadata": {}
    },
    {
      "cell_type": "code",
      "source": "# write your code here\nword = \"khokho\"\nlength_word = len(word)\n\nif length_word % 2 == 0:\n    half_word = int(length_word / 2)\n    first_half_word = word[:half_word]\n    first_half_word = word[half_word:]\n    if first_half_word == first_half_word:\n        print(\"The entered string is symmetrical\")\n    else:\n        print(\"The entered string is not symmetrical\")\nelse:\n    print(\"The entered string is not symmetrical\")      \n\nif word == word[::-1]:\n    print(\"The entered string is palindrome\")\nelse:\n    print(\"The entered string is not palindrome\")\n",
      "metadata": {
        "trusted": true
      },
      "execution_count": 1,
      "outputs": [
        {
          "name": "stdout",
          "text": "The entered string is symmetrical\nThe entered string is not palindrome\n",
          "output_type": "stream"
        }
      ]
    },
    {
      "cell_type": "markdown",
      "source": "# Multiply numbers\n\nGiven two numbers. The task is to mutiply them without using the * operator.\n\n    Input : 12, 12\n    Output : 144\n\n    Input : 19, 0\n    Output : 0\n\n    Input : 1.1, 17.2\n    Output : 18.92\n\n    Input : -2, 4\n    Output : -8",
      "metadata": {}
    },
    {
      "cell_type": "code",
      "source": "# write your code here\nnum_1 = 1.1\nnum_2 = 17.2\nres = num_1.__mul__(num_2)\nprint(res)",
      "metadata": {
        "trusted": true
      },
      "execution_count": 2,
      "outputs": [
        {
          "name": "stdout",
          "text": "18.92\n",
          "output_type": "stream"
        }
      ]
    },
    {
      "cell_type": "markdown",
      "source": "# Check for balanced parentheses\n\nGiven an expression string, write a python program to find whether a given string has balanced parentheses or not.\n\n    Input : {[]{()}}\n    Output : Balanced\n\n    Input : [{}{}(]\n    Output : Unbalanced\n\n    Input : {][{()}}\n    Output : Unbalanced",
      "metadata": {}
    },
    {
      "cell_type": "code",
      "source": "# write your code here",
      "metadata": {
        "trusted": true
      },
      "execution_count": 3,
      "outputs": []
    }
  ]
}