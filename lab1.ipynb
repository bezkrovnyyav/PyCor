{
  "metadata": {
    "kernelspec": {
      "name": "python",
      "display_name": "Python (Pyodide)",
      "language": "python"
    },
    "language_info": {
      "codemirror_mode": {
        "name": "python",
        "version": 3
      },
      "file_extension": ".py",
      "mimetype": "text/x-python",
      "name": "python",
      "nbconvert_exporter": "python",
      "pygments_lexer": "ipython3",
      "version": "3.8"
    },
    "vscode": {
      "interpreter": {
        "hash": "b469c69c7779680c4ee09c4775720b95d3e73aebb95b0b92945285ea0714cd4d"
      }
    }
  },
  "nbformat_minor": 4,
  "nbformat": 4,
  "cells": [
    {
      "cell_type": "markdown",
      "source": "# Check if the string is Symmetrical or Palindrome\n\nGiven a string. The task is to check if the string is symmetrical or palindrome. A string is said to be symmetrical if both the halves of the string are the same and a string is said to be a palindrome string if one half of the string is the reverse of the other half or if a string appears same when read forward or backward.\n\n    Input: khokho\n    Output: \n    The entered string is symmetrical\n    The entered string is not palindrome\n\n    Input: amaama\n    Output:\n    The entered string is symmetrical\n    The entered string is palindrome",
      "metadata": {}
    },
    {
      "cell_type": "code",
      "source": "# write your code here\nword = \"khokho\"\nlength_word = len(word)\n\nif length_word % 2 == 0:\n    half_word = int(length_word / 2)\n    first_half_word = word[:half_word]\n    first_half_word = word[half_word:]\n    if first_half_word == first_half_word:\n        print(\"The entered string is symmetrical\")\n    else:\n        print(\"The entered string is not symmetrical\")\nelse:\n    print(\"The entered string is not symmetrical\")      \n\nif word == word[::-1]:\n    print(\"The entered string is palindrome\")\nelse:\n    print(\"The entered string is not palindrome\")\n",
      "metadata": {
        "trusted": true
      },
      "execution_count": 1,
      "outputs": [
        {
          "name": "stdout",
          "text": "The entered string is symmetrical\nThe entered string is not palindrome\n",
          "output_type": "stream"
        }
      ]
    },
    {
      "cell_type": "markdown",
      "source": "# Multiply numbers\n\nGiven two numbers. The task is to mutiply them without using the * operator.\n\n    Input : 12, 12\n    Output : 144\n\n    Input : 19, 0\n    Output : 0\n\n    Input : 1.1, 17.2\n    Output : 18.92\n\n    Input : -2, 4\n    Output : -8",
      "metadata": {}
    },
    {
      "cell_type": "code",
      "source": "# write your code here\n'''\nnum_1 = 1.1\nnum_2 = 17.2\nres = num_1.__mul__(num_2)\nprint(res)\n'''\nfrom math import prod\na = 1.1\nb = -17.2\n\nres = prod([a, b])\nprint(round(res, 2))\n\n#another way to multiply numbers\n\nx = -1.1\ny = 5.0\n \n\ndef mul(n, m, s=0) :\n    m = str(m)\n    if len(m) == 1 :\n        return int(str(s) + '0') + func(n, int(m))\n    else :\n        s = int(str(s) + '0') + func(n, int(m[0]))\n        return mul(n, m[1:],s)\n \n \ndef func(a, b) :\n    if not b :\n        return 0\n    return a + func(a, b-1)\n \n\nprint(func(x, y))",
      "metadata": {
        "trusted": true
      },
      "execution_count": 2,
      "outputs": [
        {
          "name": "stdout",
          "text": "18.92\n",
          "output_type": "stream"
        }
      ]
    },
    {
      "cell_type": "markdown",
      "source": "# Check for balanced parentheses\n\nGiven an expression string, write a python program to find whether a given string has balanced parentheses or not.\n\n    Input : {[]{()}}\n    Output : Balanced\n\n    Input : [{}{}(]\n    Output : Unbalanced\n\n    Input : {][{()}}\n    Output : Unbalanced",
      "metadata": {}
    },
    {
      "cell_type": "code",
      "source": "# write your code here\nopen_list = [\"[\",\"{\",\"(\"]\nclose_list = [\"]\",\"}\",\")\"]\n  \nopen_symbols = [\"[\",\"{\",\"(\"]\nclose_symbols = [\"]\",\"}\",\")\"]\n\n# Function for checking has balanced parentheses \ndef check(symbols: list)-> str:\n    stack = []\n    for el in symbols:\n        if el in open_symbols:\n            stack.append(el)\n        elif el in close_symbols:\n            close_elem = close_symbols.index(el)\n            if ((len(stack) > 0) and\n                (open_symbols[close_elem] == stack[len(stack)-1])):\n                stack.pop()\n            else:\n                return \"Unbalanced\"\n    if len(stack) == 0:\n        return \"Balanced\"\n    else:\n        return \"Unbalanced\"\n  \n  \n# Test code\nsymbols = \"{[]{()}}\"\nprint(symbols,\"-\", check(symbols)) # Balanced\n  \nsymbols = \"[{}{}(]\"\nprint(symbols,\"-\", check(symbols)) # Unbalanced\n  \nsymbols = \"{][{()}}\"\nprint(symbols,\"-\",check(symbols)) # Unbalanced\n",
      "metadata": {
        "trusted": true
      },
      "execution_count": null,
      "outputs": []
    }
  ]
}