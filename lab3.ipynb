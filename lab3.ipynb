{
  "metadata": {
    "language_info": {
      "codemirror_mode": {
        "name": "python",
        "version": 3
      },
      "file_extension": ".py",
      "mimetype": "text/x-python",
      "name": "python",
      "nbconvert_exporter": "python",
      "pygments_lexer": "ipython3",
      "version": "3.8"
    },
    "kernelspec": {
      "name": "python",
      "display_name": "Python (Pyodide)",
      "language": "python"
    }
  },
  "nbformat_minor": 4,
  "nbformat": 4,
  "cells": [
    {
      "cell_type": "markdown",
      "source": "# ROT13\nGiven the word, the task is to obfuscate it. \n\nAccording to Wikipedia, ROT13 (http://en.wikipedia.org/wiki/ROT13) is frequently used to obfuscate phrases on USENET.\n\nHint: For this task you're only supposed to substitue characters. Not spaces, punctuation, numbers etc.\n\n\n\n    Input: EBG13 rknzcyr.\n    Output: ROT13 example.\n\n    Input: This is my first ROT13 excercise!\n    Output: Guvf vf zl svefg EBG13 rkprepvfr!",
      "metadata": {}
    },
    {
      "cell_type": "code",
      "source": "# write your code here\nimport codecs\n\ndef rot13(words):\n  return codecs.encode(words, 'rot13')\n\nprint(rot13(\"EBG13 rknzcyr\"))  \nprint(rot13(\"This is my first ROT13 excercise!\"))  \n\ndef rot13(words):\n    result = ''\n    alphabit = 'abcdefghijklmnopqrstuvwxyzabcdefghijklmnopqrstuvwxyzABCDEFGHIJKLMNOPQRSTUVWXYZABCDEFGHIJKLMNOPQRSTUVWXYZ'\n    for letter in words:\n        if letter in alphabit:\n            result += alphabit[alphabit.index(letter) + 13]\n        else:\n            result += letter\n    return result\n    \nprint(rot13(\"EBG13 rknzcyr\")) ",
      "metadata": {
        "trusted": true
      },
      "execution_count": null,
      "outputs": []
    },
    {
      "cell_type": "markdown",
      "source": "# Roman Numerals Decoder\n\nGiven a string. Create a function that takes a Roman numeral as its argument and returns its value as a numeric decimal integer. You don't need to validate the form of the Roman numeral.\n\n\nModern Roman numerals are written by expressing each decimal digit of the number to be encoded separately, starting with the leftmost digit and skipping any 0s. So 1990 is rendered \"MCMXC\" (1000 = M, 900 = CM, 90 = XC) and 2008 is rendered \"MMVIII\" (2000 = MM, 8 = VIII). The Roman numeral for 1666, \"MDCLXVI\", uses each letter in descending order.\n\n    Input: XXI\n    Output: 21",
      "metadata": {}
    },
    {
      "cell_type": "code",
      "source": "# write your code here\ndef translater(number):\n    symbols = {\n        'I': 1,\n        'V': 5,\n        'X': 10,\n        'L': 50,\n        'C': 100,\n        'D': 500,\n        'M': 1000\n    }\n\n    values = [symbols[i] for i in number]\n    # ckecking еру situation when a smaller  number comes before a large one\n    for i in range(len(values) - 1):        \n        if values[i] < values[i + 1]:\n            values[i] *= -1\n    return sum(values)\n\nprint(translater(\"IX\"))\n",
      "metadata": {
        "trusted": true
      },
      "execution_count": null,
      "outputs": []
    }
  ]
}